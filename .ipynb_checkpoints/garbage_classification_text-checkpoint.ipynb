{
 "cells": [
  {
   "cell_type": "code",
   "execution_count": 1,
   "metadata": {},
   "outputs": [],
   "source": [
    "import torch\n",
    "import torch.nn as nn\n",
    "import torch.optim as optim\n",
    "from torch.utils.data import DataLoader, Dataset\n",
    "from transformers import DistilBertModel, DistilBertTokenizer\n",
    "import matplotlib.pyplot as plt\n",
    "import numpy as np\n",
    "import os\n",
    "import re\n",
    "from sklearn.metrics import confusion_matrix\n",
    "import seaborn as sns"
   ]
  },
  {
   "cell_type": "code",
   "execution_count": 2,
   "metadata": {},
   "outputs": [],
   "source": [
    "\n",
    "# Extract text from file names as well as labels\n",
    "def read_text_files_with_labels(path):\n",
    "    texts = []\n",
    "    labels = []\n",
    "    class_folders = sorted(os.listdir(path))  # Assuming class folders are sorted\n",
    "    label_map = {class_name: idx for idx, class_name in enumerate(class_folders)}\n",
    "\n",
    "    for class_name in class_folders:\n",
    "        class_path = os.path.join(path, class_name)\n",
    "        if os.path.isdir(class_path):\n",
    "            file_names = os.listdir(class_path)\n",
    "            for file_name in file_names:\n",
    "                file_path = os.path.join(class_path, file_name)\n",
    "                if os.path.isfile(file_path):\n",
    "                    file_name_no_ext, _ = os.path.splitext(file_name)\n",
    "                    text = file_name_no_ext.replace('_', ' ')\n",
    "                    text_without_digits = re.sub(r'\\d+', '', text)\n",
    "                    texts.append(text_without_digits)\n",
    "                    labels.append(label_map[class_name])\n",
    "\n",
    "    return np.array(texts), np.array(labels)\n",
    "\n",
    "# Define your dataset class\n",
    "class CustomDataset(Dataset):\n",
    "    def __init__(self, texts, labels, tokenizer, max_len):\n",
    "        self.texts = texts\n",
    "        self.labels = labels\n",
    "        self.tokenizer = tokenizer\n",
    "        self.max_len = max_len\n",
    "\n",
    "    def __len__(self):\n",
    "        return len(self.texts)\n",
    "\n",
    "    def __getitem__(self, idx):\n",
    "        text = str(self.texts[idx])\n",
    "        label = self.labels[idx]\n",
    "\n",
    "        encoding = self.tokenizer.encode_plus(\n",
    "            text,\n",
    "            add_special_tokens=True,\n",
    "            max_length=self.max_len,\n",
    "            return_token_type_ids=False,\n",
    "            padding='max_length',\n",
    "            truncation=True,\n",
    "            return_attention_mask=True,\n",
    "            return_tensors='pt'\n",
    "        )\n",
    "\n",
    "        return {\n",
    "            'text': text,\n",
    "            'input_ids': encoding['input_ids'].flatten(),\n",
    "            'attention_mask': encoding['attention_mask'].flatten(),\n",
    "            'label': torch.tensor(label, dtype=torch.long)\n",
    "        }\n",
    "\n",
    "# Define the model\n",
    "class DistilBERTClassifier(nn.Module):\n",
    "    def __init__(self, num_classes):\n",
    "        super(DistilBERTClassifier, self).__init__()\n",
    "        self.distilbert = DistilBertModel.from_pretrained('distilbert-base-uncased')\n",
    "        self.drop = nn.Dropout(0.3)\n",
    "        self.out = nn.Linear(self.distilbert.config.hidden_size, num_classes)\n",
    "\n",
    "    def forward(self, input_ids, attention_mask):\n",
    "        outputs = self.distilbert(input_ids=input_ids, attention_mask=attention_mask)\n",
    "        hidden_state = outputs.last_hidden_state\n",
    "        # Mean pooling\n",
    "        pooled_output = torch.mean(hidden_state, dim=1)\n",
    "        output = self.drop(pooled_output)\n",
    "        #pooled_output = self.distilbert(input_ids=input_ids, attention_mask=attention_mask)[0]\n",
    "        #output = self.drop(pooled_output[:,0])\n",
    "        return self.out(output)\n",
    "\n",
    "# Define training function\n",
    "def train(model, iterator, optimizer, criterion, device):\n",
    "    model.train()\n",
    "    total_loss = 0\n",
    "    for batch in iterator:\n",
    "        input_ids = batch['input_ids'].to(device)\n",
    "        attention_mask = batch['attention_mask'].to(device)\n",
    "        labels = batch['label'].to(device)\n",
    "\n",
    "        optimizer.zero_grad()\n",
    "        output = model(input_ids, attention_mask)\n",
    "        loss = criterion(output, labels)\n",
    "        loss.backward()\n",
    "        optimizer.step()\n",
    "\n",
    "        total_loss += loss.item()\n",
    "\n",
    "    return total_loss / len(iterator)\n",
    "\n",
    "# Define evaluation function\n",
    "def evaluate(model, iterator, criterion, device):\n",
    "    model.eval()\n",
    "    total_loss = 0\n",
    "    with torch.no_grad():\n",
    "        for batch in iterator:\n",
    "            input_ids = batch['input_ids'].to(device)\n",
    "            attention_mask = batch['attention_mask'].to(device)\n",
    "            labels = batch['label'].to(device)\n",
    "\n",
    "            output = model(input_ids, attention_mask)\n",
    "            loss = criterion(output, labels)\n",
    "\n",
    "            total_loss += loss.item()\n",
    "\n",
    "    return total_loss / len(iterator)\n",
    "\n",
    "def predict(model, dataloader, device):\n",
    "    model.eval()  # Set the model to evaluation mode\n",
    "    predictions = []\n",
    "    with torch.no_grad():  # Disable gradient tracking\n",
    "        for batch in dataloader:\n",
    "            input_ids = batch['input_ids'].to(device)  # Assuming input_ids are in the batch\n",
    "            attention_mask = batch['attention_mask'].to(device)  # Assuming attention_mask is in the batch\n",
    "\n",
    "            # Forward pass\n",
    "            outputs = model(input_ids, attention_mask)\n",
    "\n",
    "            # Get predictions\n",
    "            _, preds = torch.max(outputs, dim=1)\n",
    "\n",
    "            # Convert predictions to CPU and append to the list\n",
    "            predictions.extend(preds.cpu().numpy())\n",
    "\n",
    "    return predictions"
   ]
  },
  {
   "cell_type": "code",
   "execution_count": 3,
   "metadata": {},
   "outputs": [
    {
     "name": "stdout",
     "output_type": "stream",
     "text": [
      "(10200,)\n",
      "(10200,)\n",
      "(1800,)\n",
      "(1800,)\n",
      "(3431,)\n",
      "(3431,)\n"
     ]
    }
   ],
   "source": [
    "TRAIN_PATH = r\"D:\\UCalgary\\ENEL645\\A2\\garbage_data\\garbage_data\\CVPR_2024_dataset_Train\"\n",
    "VAL_PATH = r\"D:\\UCalgary\\ENEL645\\A2\\garbage_data\\garbage_data\\CVPR_2024_dataset_Val\"\n",
    "TEST_PATH = r\"D:\\UCalgary\\ENEL645\\A2\\garbage_data\\garbage_data\\CVPR_2024_dataset_Test\"\n",
    "\n",
    "text_train,labels_train = read_text_files_with_labels(TRAIN_PATH)\n",
    "text_val,labels_val = read_text_files_with_labels(VAL_PATH)\n",
    "text_test,labels_test = read_text_files_with_labels(TEST_PATH)\n",
    "\n",
    "print(text_train.shape)\n",
    "print(labels_train.shape)\n",
    "print(text_val.shape)\n",
    "print(labels_val.shape)\n",
    "print(text_test.shape)\n",
    "print(labels_test.shape)"
   ]
  },
  {
   "cell_type": "code",
   "execution_count": 4,
   "metadata": {
    "scrolled": true
   },
   "outputs": [
    {
     "name": "stdout",
     "output_type": "stream",
     "text": [
      "Epoch: 1, Train Loss: 0.5000\n",
      "Epoch: 1, Val Loss: 0.4085\n",
      "Saving model\n",
      "Epoch: 2, Train Loss: 0.2774\n",
      "Epoch: 2, Val Loss: 0.3775\n",
      "Saving model\n",
      "Epoch: 3, Train Loss: 0.2182\n",
      "Epoch: 3, Val Loss: 0.3342\n",
      "Saving model\n",
      "Epoch: 4, Train Loss: 0.1731\n",
      "Epoch: 4, Val Loss: 0.3598\n",
      "Epoch: 5, Train Loss: 0.1422\n",
      "Epoch: 5, Val Loss: 0.3696\n",
      "Epoch: 6, Train Loss: 0.1233\n",
      "Epoch: 6, Val Loss: 0.3847\n",
      "Epoch: 7, Train Loss: 0.1026\n",
      "Epoch: 7, Val Loss: 0.3793\n",
      "Epoch: 8, Train Loss: 0.0973\n",
      "Epoch: 8, Val Loss: 0.3921\n",
      "Epoch: 9, Train Loss: 0.0879\n",
      "Epoch: 9, Val Loss: 0.4684\n",
      "Epoch: 10, Train Loss: 0.0830\n",
      "Epoch: 10, Val Loss: 0.4259\n",
      "Finished Training\n"
     ]
    }
   ],
   "source": [
    "# Tokenizer\n",
    "tokenizer = DistilBertTokenizer.from_pretrained('distilbert-base-uncased')\n",
    "\n",
    "# Tokenize data\n",
    "max_len = 24\n",
    "dataset_train = CustomDataset(text_train, labels_train, tokenizer, max_len)\n",
    "dataset_val = CustomDataset(text_val, labels_val, tokenizer, max_len)\n",
    "dataset_test = CustomDataset(text_test, labels_test, tokenizer, max_len)\n",
    "\n",
    "# Data loaders\n",
    "train_loader = DataLoader(dataset_train, batch_size=32, shuffle=True)\n",
    "val_loader = DataLoader(dataset_val, batch_size=32, shuffle=False)\n",
    "test_loader = DataLoader(dataset_test, batch_size=32, shuffle=False)\n",
    "\n",
    "best_loss = 1e+10 # best loss tracker\n",
    "EPOCHS = 4\n",
    "\n",
    "# Model\n",
    "device = torch.device('cuda' if torch.cuda.is_available() else 'cpu')\n",
    "model = DistilBERTClassifier(num_classes=4).to(device)\n",
    "\n",
    "# Training parameters\n",
    "optimizer = optim.Adam(model.parameters(), lr=2e-5)\n",
    "criterion = nn.CrossEntropyLoss()\n",
    "\n",
    "# Training loop\n",
    "for epoch in range(EPOCHS):\n",
    "    train_loss = train(model, train_loader, optimizer, criterion, device)\n",
    "    print(f'Epoch: {epoch+1}, Train Loss: {train_loss:.4f}')\n",
    "    val_loss = evaluate(model, val_loader, criterion, device)\n",
    "    print(f'Epoch: {epoch+1}, Val Loss: {val_loss:.4f}')\n",
    "    if val_loss < best_loss:\n",
    "        torch.save(model.state_dict(), 'best_model.pth')\n",
    "        best_loss = val_loss\n",
    "        print('Saving model')\n",
    "print('Finished Training')"
   ]
  },
  {
   "cell_type": "code",
   "execution_count": 5,
   "metadata": {},
   "outputs": [
    {
     "name": "stderr",
     "output_type": "stream",
     "text": [
      "C:\\Users\\14244\\AppData\\Local\\Temp\\ipykernel_35964\\1749596883.py:1: FutureWarning: You are using `torch.load` with `weights_only=False` (the current default value), which uses the default pickle module implicitly. It is possible to construct malicious pickle data which will execute arbitrary code during unpickling (See https://github.com/pytorch/pytorch/blob/main/SECURITY.md#untrusted-models for more details). In a future release, the default value for `weights_only` will be flipped to `True`. This limits the functions that could be executed during unpickling. Arbitrary objects will no longer be allowed to be loaded via this mode unless they are explicitly allowlisted by the user via `torch.serialization.add_safe_globals`. We recommend you start setting `weights_only=True` for any use case where you don't have full control of the loaded file. Please open an issue on GitHub for any issues related to this experimental feature.\n",
      "  model.load_state_dict(torch.load('best_model.pth'))\n"
     ]
    },
    {
     "name": "stdout",
     "output_type": "stream",
     "text": [
      "Accuracy:  0.8272\n"
     ]
    }
   ],
   "source": [
    "model.load_state_dict(torch.load('best_model.pth'))\n",
    "# Evaluation\n",
    "test_predictions = predict(model, test_loader, device)\n",
    "print(f\"Accuracy:  {(test_predictions == labels_test).sum()/labels_test.size:.4f}\")"
   ]
  },
  {
   "cell_type": "code",
   "execution_count": 6,
   "metadata": {},
   "outputs": [
    {
     "data": {
      "image/png": "[encoded data removed]",
      "text/plain": [
       "<Figure size 800x600 with 1 Axes>"
      ]
     },
     "metadata": {},
     "output_type": "display_data"
    }
   ],
   "source": [
    "cm = confusion_matrix(labels_test, test_predictions)\n",
    "\n",
    "# Plot confusion matrix\n",
    "plt.figure(figsize=(8, 6))\n",
    "sns.heatmap(cm, annot=True, cmap='Blues', fmt='g', cbar=False)\n",
    "\n",
    "plt.title('Confusion Matrix')\n",
    "plt.xlabel('Predicted Labels')\n",
    "plt.ylabel('True Labels')\n",
    "plt.show()"
   ]
  },
  {
   "cell_type": "code",
   "execution_count": null,
   "metadata": {},
   "outputs": [],
   "source": []
  }
 ],
 "metadata": {
  "kernelspec": {
   "display_name": "Python [conda env:pytorch] *",
   "language": "python",
   "name": "conda-env-pytorch-py"
  },
  "language_info": {
   "codemirror_mode": {
    "name": "ipython",
    "version": 3
   },
   "file_extension": ".py",
   "mimetype": "text/x-python",
   "name": "python",
   "nbconvert_exporter": "python",
   "pygments_lexer": "ipython3",
   "version": "3.12.7"
  }
 },
 "nbformat": 4,
 "nbformat_minor": 2
}
